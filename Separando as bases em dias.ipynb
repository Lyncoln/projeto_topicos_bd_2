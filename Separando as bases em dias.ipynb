{
 "cells": [
  {
   "cell_type": "markdown",
   "id": "dd25b1c2",
   "metadata": {},
   "source": [
    "# Pega base em csv e cria várias bases sepadadas por dia"
   ]
  },
  {
   "cell_type": "code",
   "execution_count": 15,
   "id": "76dfd6d0",
   "metadata": {},
   "outputs": [],
   "source": [
    "import pyspark\n",
    "from pyspark.sql import SparkSession\n",
    "from pyspark.sql.functions import *\n",
    "import os"
   ]
  },
  {
   "cell_type": "code",
   "execution_count": 2,
   "id": "752f4879",
   "metadata": {},
   "outputs": [
    {
     "data": {
      "text/html": [
       "\n",
       "        <div>\n",
       "            <p><b>SparkContext</b></p>\n",
       "\n",
       "            <p><a href=\"http://192.168.56.1:4040\">Spark UI</a></p>\n",
       "\n",
       "            <dl>\n",
       "              <dt>Version</dt>\n",
       "                <dd><code>v3.1.2</code></dd>\n",
       "              <dt>Master</dt>\n",
       "                <dd><code>local[*]</code></dd>\n",
       "              <dt>AppName</dt>\n",
       "                <dd><code>PySparkShell</code></dd>\n",
       "            </dl>\n",
       "        </div>\n",
       "        "
      ],
      "text/plain": [
       "<SparkContext master=local[*] appName=PySparkShell>"
      ]
     },
     "execution_count": 2,
     "metadata": {},
     "output_type": "execute_result"
    }
   ],
   "source": [
    "sc"
   ]
  },
  {
   "cell_type": "code",
   "execution_count": 34,
   "id": "c988d2b2",
   "metadata": {
    "scrolled": true
   },
   "outputs": [],
   "source": [
    "spark = SparkSession.builder.appName('pyspark').getOrCreate()"
   ]
  },
  {
   "cell_type": "code",
   "execution_count": null,
   "id": "835f1c62",
   "metadata": {},
   "outputs": [
    {
     "name": "stdout",
     "output_type": "stream",
     "text": [
      "AEP_MW\n"
     ]
    }
   ],
   "source": [
    "for file in os.listdir(f'{os.getcwd()}\\\\data'):\n",
    "    data = spark.read.option(\"header\",True).csv(f\"data/{file}\")\n",
    "    print(f\"{data.columns[1]}\")\n",
    "    data.createOrReplaceTempView(\"house\")\n",
    "    spark.sql(f\"SELECT Datetime, {data.columns[1]}, LEFT(Datetime,10) AS Date FROM house\")\\\n",
    "        .write.option(\"header\",True)\\\n",
    "        .partitionBy(\"Date\")\\\n",
    "        .csv(f\"bases/{data.columns[1]}\")\n",
    "        #.mode(\"overwrite\")\\"
   ]
  }
 ],
 "metadata": {
  "kernelspec": {
   "display_name": "Python 3 (ipykernel)",
   "language": "python",
   "name": "python3"
  },
  "language_info": {
   "codemirror_mode": {
    "name": "ipython",
    "version": 3
   },
   "file_extension": ".py",
   "mimetype": "text/x-python",
   "name": "python",
   "nbconvert_exporter": "python",
   "pygments_lexer": "ipython3",
   "version": "3.9.6"
  }
 },
 "nbformat": 4,
 "nbformat_minor": 5
}
