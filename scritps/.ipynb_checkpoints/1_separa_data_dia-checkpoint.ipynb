{
 "cells": [
  {
   "cell_type": "code",
   "execution_count": 1,
   "id": "61bb28bc",
   "metadata": {},
   "outputs": [],
   "source": [
    "import os\n",
    "import pandas as pd"
   ]
  },
  {
   "cell_type": "code",
   "execution_count": 4,
   "id": "be2e7235",
   "metadata": {
    "scrolled": true
   },
   "outputs": [],
   "source": [
    "for file in os.listdir(f'{os.getcwd()}/data'):\n",
    "    name_folder = file.replace(\"_hourly.csv\",\"\")\n",
    "    data = pd.read_csv(f\"data/{file}\")\n",
    "    \n",
    "    os.mkdir(f'{os.getcwd()}/bases/{name_folder}')\n",
    "    data['day'] = data['Datetime'].astype('datetime64[ns]').dt.floor('d')\n",
    "    for name,group in data.groupby('day'):\n",
    "        group[[\"Datetime\",f'{name_folder}_MW']].to_csv(f'{os.getcwd()}/bases/{name_folder}/date{str(name)[0:10]}.csv',index = False)"
   ]
  },
  {
   "cell_type": "code",
   "execution_count": 3,
   "id": "57cfb673",
   "metadata": {},
   "outputs": [
    {
     "data": {
      "text/plain": [
       "'/home/lyncoln/projeto_topicos_bd_2/scritps'"
      ]
     },
     "execution_count": 3,
     "metadata": {},
     "output_type": "execute_result"
    }
   ],
   "source": [
    "os.getcwd()"
   ]
  },
  {
   "cell_type": "code",
   "execution_count": 7,
   "id": "ff786f8f",
   "metadata": {},
   "outputs": [
    {
     "name": "stderr",
     "output_type": "stream",
     "text": [
      "sh: 1: cd:: not found\n"
     ]
    },
    {
     "data": {
      "text/plain": [
       "32512"
      ]
     },
     "execution_count": 7,
     "metadata": {},
     "output_type": "execute_result"
    }
   ],
   "source": [
    "os.path()"
   ]
  }
 ],
 "metadata": {
  "kernelspec": {
   "display_name": "Python 3 (ipykernel)",
   "language": "python",
   "name": "python3"
  },
  "language_info": {
   "codemirror_mode": {
    "name": "ipython",
    "version": 3
   },
   "file_extension": ".py",
   "mimetype": "text/x-python",
   "name": "python",
   "nbconvert_exporter": "python",
   "pygments_lexer": "ipython3",
   "version": "3.8.10"
  }
 },
 "nbformat": 4,
 "nbformat_minor": 5
}
