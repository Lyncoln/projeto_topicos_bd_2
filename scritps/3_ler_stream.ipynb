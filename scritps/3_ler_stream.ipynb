{
 "cells": [
  {
   "cell_type": "code",
   "execution_count": 1,
   "id": "634a3a2f",
   "metadata": {},
   "outputs": [],
   "source": [
    "from pyspark.sql import SparkSession\n",
    "import pyspark.sql.functions as F\n",
    "from pyspark.sql.types import *\n",
    "import os\n",
    "from pyspark.sql.functions import col"
   ]
  },
  {
   "cell_type": "code",
   "execution_count": 2,
   "id": "8537be66",
   "metadata": {},
   "outputs": [],
   "source": [
    "spark = (SparkSession\n",
    "             .builder\n",
    "             .appName(\"streaming\")\n",
    "             .getOrCreate()\n",
    "             )"
   ]
  },
  {
   "cell_type": "code",
   "execution_count": 3,
   "id": "24a18a87",
   "metadata": {},
   "outputs": [],
   "source": [
    "schema = StructType([\n",
    "        StructField(\"Datetime\", StringType(), True),\n",
    "        StructField(\"MW\", DoubleType(), True)\n",
    "    ])"
   ]
  },
  {
   "cell_type": "code",
   "execution_count": 4,
   "id": "5e2a8e6a",
   "metadata": {},
   "outputs": [],
   "source": [
    "streaming = (\n",
    "            spark.readStream.schema(schema)\n",
    "            .csv(f'{os.getcwd()}/dados_brutos/',header=True)\n",
    ")"
   ]
  },
  {
   "cell_type": "code",
   "execution_count": 5,
   "id": "e1acd143",
   "metadata": {},
   "outputs": [
    {
     "name": "stderr",
     "output_type": "stream",
     "text": [
      "21/07/18 19:30:21 WARN CSVHeaderChecker: Number of column in CSV header is not equal to number of fields in the schema:\n",
      " Header length: 1, schema size: 2\n",
      "CSV file: file:/home/lyncoln/projeto_topicos_bd_2/scritps/dados_brutos/ultima_data.txt\n",
      "                                                                                \r"
     ]
    }
   ],
   "source": [
    "streaming_query = (streaming\n",
    "                  .withColumn(\"Datetime\",col(\"Datetime\")[0:10])\n",
    "                  .writeStream\n",
    "                  .format('csv')\n",
    "                  .option(\"path\",f'{os.getcwd()}/dados_stream/')\n",
    "                  .option('checkpointLocation',f'{os.getcwd()}/dados_stream_checkpoint')\n",
    "                  .outputMode('append')\n",
    "                  .start())"
   ]
  }
 ],
 "metadata": {
  "kernelspec": {
   "display_name": "Python 3 (ipykernel)",
   "language": "python",
   "name": "python3"
  },
  "language_info": {
   "codemirror_mode": {
    "name": "ipython",
    "version": 3
   },
   "file_extension": ".py",
   "mimetype": "text/x-python",
   "name": "python",
   "nbconvert_exporter": "python",
   "pygments_lexer": "ipython3",
   "version": "3.8.10"
  }
 },
 "nbformat": 4,
 "nbformat_minor": 5
}
