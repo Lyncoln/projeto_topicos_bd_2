{
 "cells": [
  {
   "cell_type": "code",
   "execution_count": null,
   "id": "b53ccefb",
   "metadata": {
    "scrolled": true
   },
   "outputs": [],
   "source": [
    "import dash\n",
    "from dash.dependencies import Output, Input\n",
    "import dash_core_components as dcc\n",
    "import dash_html_components as html\n",
    "import plotly\n",
    "import random\n",
    "import plotly.graph_objs as go\n",
    "from collections import deque\n",
    "import pandas as pd\n",
    "import os\n",
    "\n",
    "\n",
    "X = deque(maxlen=20)\n",
    "X.append(1)\n",
    "Y = deque(maxlen=20)\n",
    "Y.append(1)\n",
    "\n",
    "\n",
    "app = dash.Dash(__name__)\n",
    "app.layout = html.Div(\n",
    "    [\n",
    "        dcc.Graph(id='live-graph', animate=True),\n",
    "        dcc.Interval(\n",
    "            id='graph-update',\n",
    "            interval=1000,\n",
    "            n_intervals = 0\n",
    "        ),\n",
    "    ]\n",
    ")\n",
    "\n",
    "@app.callback(Output('live-graph', 'figure'),\n",
    "        [Input('graph-update', 'n_intervals')])\n",
    "\n",
    "\n",
    "def update_graph_scatter(n):\n",
    "    #X.append(X[-1]+1)\n",
    "    #Y.append(Y[-1]+Y[-1]*random.uniform(-0.1,0.1))\n",
    "    \n",
    "    info = pd.read_csv(os.getcwd()+'/time_serie/'+os.listdir(os.getcwd()+'/time_serie/')[0])\n",
    "\n",
    "    X = info.ds\n",
    "    Y = info.y\n",
    "    data = plotly.graph_objs.Scatter(\n",
    "            x=list(X),\n",
    "            y=list(Y),\n",
    "            name='Scatter',\n",
    "            mode= 'lines'\n",
    "            )\n",
    "\n",
    "    return {'data': [data]}\n",
    "\n",
    "\n",
    "\n",
    "\n",
    "\n",
    "if __name__ == '__main__':\n",
    "    app.run_server(debug=False)"
   ]
  },
  {
   "cell_type": "code",
   "execution_count": null,
   "id": "fabf3cde",
   "metadata": {},
   "outputs": [],
   "source": []
  },
  {
   "cell_type": "code",
   "execution_count": null,
   "id": "e7e2265d",
   "metadata": {},
   "outputs": [],
   "source": [
    "info = pd.read_csv(os.getcwd()+'/time_serie/'+os.listdir(os.getcwd()+'/time_serie')[3])\n",
    "info.ds = info.ds.map(lambda x: x[0:10])\n",
    "info = info.groupby(\"ds\").mean()"
   ]
  },
  {
   "cell_type": "code",
   "execution_count": 10,
   "id": "4591f35b",
   "metadata": {},
   "outputs": [
    {
     "data": {
      "text/plain": [
       "'/home/lyncoln/projeto_topicos_bd_2/scritps/time_serie/part-00000-7b3de8aa-c8ab-4889-a808-024aa099c1a6-c000.csv'"
      ]
     },
     "execution_count": 10,
     "metadata": {},
     "output_type": "execute_result"
    }
   ],
   "source": [
    "import pandas as pd\n",
    "import os\n",
    "os.getcwd()+'/time_serie/'+os.listdir(os.getcwd()+'/time_serie/')[2]"
   ]
  }
 ],
 "metadata": {
  "kernelspec": {
   "display_name": "Python 3 (ipykernel)",
   "language": "python",
   "name": "python3"
  },
  "language_info": {
   "codemirror_mode": {
    "name": "ipython",
    "version": 3
   },
   "file_extension": ".py",
   "mimetype": "text/x-python",
   "name": "python",
   "nbconvert_exporter": "python",
   "pygments_lexer": "ipython3",
   "version": "3.8.10"
  }
 },
 "nbformat": 4,
 "nbformat_minor": 5
}
