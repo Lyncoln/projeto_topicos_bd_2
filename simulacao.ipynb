{
 "cells": [
  {
   "cell_type": "code",
   "execution_count": 39,
   "id": "146db385",
   "metadata": {},
   "outputs": [],
   "source": [
    "import os\n",
    "from datetime import datetime, timedelta\n",
    "from time import sleep\n",
    "import pandas as pd"
   ]
  },
  {
   "cell_type": "code",
   "execution_count": 40,
   "id": "432d7a14",
   "metadata": {},
   "outputs": [],
   "source": [
    "date_str = \"2004-10-01\"\n",
    "\n",
    "data_days = pd.DataFrame(columns = {\"Datetime\",\"MW\"})\n",
    "\n",
    "q_days = 100\n",
    "\n",
    "for i in range(q_days):\n",
    "    for file in os.listdir(f'{os.getcwd()}/bases'):\n",
    "        for path in os.listdir(f'{os.getcwd()}/bases/{file}'):\n",
    "            if(date_str in path):\n",
    "                destination = os.path.join(os.getcwd()+'/bases',file,path)\n",
    "                data = pd.read_csv(destination)\n",
    "\n",
    "                data = data.rename(columns = {data.columns[0]:\"Datetime\",\n",
    "                                              data.columns[1]:\"MW\"})\n",
    "\n",
    "                data_days = data_days.append(data)\n",
    "                data_days.to_csv('data_simulation.csv',index = False)\n",
    "\n",
    "    date_ds = datetime.strptime(date_str, '%Y-%m-%d') + timedelta(1)\n",
    "    date_str = str(date_ds)[0:10]\n",
    "    sleep(10)"
   ]
  },
  {
   "cell_type": "code",
   "execution_count": null,
   "id": "2304206c",
   "metadata": {},
   "outputs": [],
   "source": []
  }
 ],
 "metadata": {
  "kernelspec": {
   "display_name": "Python 3 (ipykernel)",
   "language": "python",
   "name": "python3"
  },
  "language_info": {
   "codemirror_mode": {
    "name": "ipython",
    "version": 3
   },
   "file_extension": ".py",
   "mimetype": "text/x-python",
   "name": "python",
   "nbconvert_exporter": "python",
   "pygments_lexer": "ipython3",
   "version": "3.8.10"
  }
 },
 "nbformat": 4,
 "nbformat_minor": 5
}
