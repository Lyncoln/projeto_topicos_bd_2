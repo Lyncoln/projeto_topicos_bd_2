{
 "cells": [
  {
   "cell_type": "code",
   "execution_count": 62,
   "id": "3c310fa8",
   "metadata": {},
   "outputs": [],
   "source": [
    "import os\n",
    "from datetime import datetime, timedelta\n",
    "from time import sleep\n",
    "import pandas as pd"
   ]
  },
  {
   "cell_type": "code",
   "execution_count": 60,
   "id": "b9b8e50e",
   "metadata": {},
   "outputs": [],
   "source": [
    "date_str = \"2004-10-01\"\n",
    "\n",
    "data_days = pd.DataFrame(columns = {\"Datetime\",\"MW\"})\n",
    "\n",
    "for i in range(1,100): #Botar quantos dias ele vai ler apartir da data inicial\n",
    "    for file in os.listdir(f'{os.getcwd()}/bases'):\n",
    "        for path in os.listdir(f'{os.getcwd()}/bases/{file}'):\n",
    "            if(date_str in path):\n",
    "                destination = os.path.join(os.getcwd()+'/bases',file,path)\n",
    "                csv_file = os.listdir(destination)[1]\n",
    "                data = pd.read_csv(os.path.join(destination,csv_file))\n",
    "                data = data.rename(columns = {data.columns[1]:\"MW\"})\n",
    "                data_days = data_days.append(data)\n",
    "                \n",
    "                #Aqui a gente salvaria em um repositório\n",
    "                #data_days.to_csv(caminho)\n",
    "    \n",
    "    date_ds = datetime.strptime(date_str, '%Y-%m-%d')\n",
    "    date_str = str(date_ds)[0:10]\n",
    "    sleep(60)"
   ]
  }
 ],
 "metadata": {
  "kernelspec": {
   "display_name": "Python 3 (ipykernel)",
   "language": "python",
   "name": "python3"
  },
  "language_info": {
   "codemirror_mode": {
    "name": "ipython",
    "version": 3
   },
   "file_extension": ".py",
   "mimetype": "text/x-python",
   "name": "python",
   "nbconvert_exporter": "python",
   "pygments_lexer": "ipython3",
   "version": "3.9.6"
  }
 },
 "nbformat": 4,
 "nbformat_minor": 5
}
