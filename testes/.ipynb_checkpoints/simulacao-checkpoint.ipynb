{
 "cells": [
  {
   "cell_type": "code",
   "execution_count": 2,
   "id": "146db385",
   "metadata": {},
   "outputs": [],
   "source": [
    "import os\n",
    "from datetime import datetime, timedelta\n",
    "from time import sleep\n",
    "import pandas as pd"
   ]
  },
  {
   "cell_type": "code",
   "execution_count": 17,
   "id": "5bdd7e0c",
   "metadata": {},
   "outputs": [
    {
     "ename": "KeyboardInterrupt",
     "evalue": "",
     "output_type": "error",
     "traceback": [
      "\u001b[0;31m---------------------------------------------------------------------------\u001b[0m",
      "\u001b[0;31mKeyboardInterrupt\u001b[0m                         Traceback (most recent call last)",
      "\u001b[0;32m/tmp/ipykernel_2629/3566744135.py\u001b[0m in \u001b[0;36m<module>\u001b[0;34m\u001b[0m\n\u001b[1;32m     25\u001b[0m     \u001b[0mdate_ds\u001b[0m \u001b[0;34m=\u001b[0m \u001b[0mdatetime\u001b[0m\u001b[0;34m.\u001b[0m\u001b[0mstrptime\u001b[0m\u001b[0;34m(\u001b[0m\u001b[0mdate_str\u001b[0m\u001b[0;34m,\u001b[0m \u001b[0;34m'%Y-%m-%d'\u001b[0m\u001b[0;34m)\u001b[0m \u001b[0;34m+\u001b[0m \u001b[0mtimedelta\u001b[0m\u001b[0;34m(\u001b[0m\u001b[0;36m1\u001b[0m\u001b[0;34m)\u001b[0m\u001b[0;34m\u001b[0m\u001b[0;34m\u001b[0m\u001b[0m\n\u001b[1;32m     26\u001b[0m     \u001b[0mdate_str\u001b[0m \u001b[0;34m=\u001b[0m \u001b[0mstr\u001b[0m\u001b[0;34m(\u001b[0m\u001b[0mdate_ds\u001b[0m\u001b[0;34m)\u001b[0m\u001b[0;34m[\u001b[0m\u001b[0;36m0\u001b[0m\u001b[0;34m:\u001b[0m\u001b[0;36m10\u001b[0m\u001b[0;34m]\u001b[0m\u001b[0;34m\u001b[0m\u001b[0;34m\u001b[0m\u001b[0m\n\u001b[0;32m---> 27\u001b[0;31m     \u001b[0msleep\u001b[0m\u001b[0;34m(\u001b[0m\u001b[0;36m10\u001b[0m\u001b[0;34m)\u001b[0m\u001b[0;34m\u001b[0m\u001b[0;34m\u001b[0m\u001b[0m\n\u001b[0m",
      "\u001b[0;31mKeyboardInterrupt\u001b[0m: "
     ]
    }
   ],
   "source": [
    "date_str = \"2004-10-01\"\n",
    "\n",
    "data_days = pd.DataFrame(columns = {\"Datetime\",\"MW\"})\n",
    "\n",
    "q_days = 2000\n",
    "\n",
    "for i in range(q_days):\n",
    "    #print(date_str)\n",
    "    for file in os.listdir(f'{os.getcwd()}/bases'):\n",
    "        for path in os.listdir(f'{os.getcwd()}/bases/{file}'):\n",
    "            if(date_str in path):\n",
    "                destination = os.path.join(os.getcwd()+'/bases',file,path)\n",
    "                data = pd.read_csv(destination)\n",
    "\n",
    "                data = data.rename(columns = {data.columns[0]:\"Datetime\",\n",
    "                                              data.columns[1]:\"MW\"})\n",
    "\n",
    "                data_days = data_days.append(data)\n",
    "                \n",
    "                data.to_csv('data/'+file+path,index = False)\n",
    "            \n",
    "    \n",
    "    \n",
    "    date_ds = datetime.strptime(date_str, '%Y-%m-%d') + timedelta(1)\n",
    "    date_str = str(date_ds)[0:10]\n",
    "    sleep(10)"
   ]
  },
  {
   "cell_type": "code",
   "execution_count": 11,
   "id": "70538f73",
   "metadata": {},
   "outputs": [
    {
     "data": {
      "text/plain": [
       "'data/COMEDdate2015-02-18.csv'"
      ]
     },
     "execution_count": 11,
     "metadata": {},
     "output_type": "execute_result"
    }
   ],
   "source": [
    "'data/'+file+path"
   ]
  }
 ],
 "metadata": {
  "kernelspec": {
   "display_name": "Python 3 (ipykernel)",
   "language": "python",
   "name": "python3"
  },
  "language_info": {
   "codemirror_mode": {
    "name": "ipython",
    "version": 3
   },
   "file_extension": ".py",
   "mimetype": "text/x-python",
   "name": "python",
   "nbconvert_exporter": "python",
   "pygments_lexer": "ipython3",
   "version": "3.8.10"
  }
 },
 "nbformat": 4,
 "nbformat_minor": 5
}
