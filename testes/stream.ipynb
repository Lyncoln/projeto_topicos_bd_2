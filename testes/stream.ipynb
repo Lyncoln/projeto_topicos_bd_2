{
 "cells": [
  {
   "cell_type": "code",
   "execution_count": null,
   "id": "634a3a2f",
   "metadata": {},
   "outputs": [],
   "source": [
    "from pyspark.sql import SparkSession\n",
    "import pyspark.sql.functions as F\n",
    "from pyspark.sql.types import *\n",
    "import os\n",
    "from pyspark.sql.functions import col\n",
    "\n",
    "spark = (SparkSession\n",
    "             .builder\n",
    "             .appName(\"streaming\")\n",
    "             .getOrCreate()\n",
    "             )"
   ]
  },
  {
   "cell_type": "code",
   "execution_count": null,
   "id": "24a18a87",
   "metadata": {},
   "outputs": [],
   "source": [
    "schema = StructType([\n",
    "        StructField(\"Datetime\", StringType(), True),\n",
    "        StructField(\"MW\", DoubleType(), True)\n",
    "    ])"
   ]
  },
  {
   "cell_type": "code",
   "execution_count": null,
   "id": "5e2a8e6a",
   "metadata": {},
   "outputs": [],
   "source": [
    "!cd data && ls"
   ]
  },
  {
   "cell_type": "code",
   "execution_count": null,
   "id": "e1acd143",
   "metadata": {},
   "outputs": [],
   "source": [
    "streaming = (\n",
    "            spark.readStream.schema(schema)\n",
    "            .csv(f'{os.getcwd()}/data/',header=True)\n",
    ")"
   ]
  },
  {
   "cell_type": "code",
   "execution_count": null,
   "id": "f4473e9e",
   "metadata": {
    "scrolled": true
   },
   "outputs": [],
   "source": [
    "streaming_query = (streaming\n",
    "                  .withColumn(\"Datetime\",col(\"Datetime\")[0:10])\n",
    "                  .writeStream\n",
    "                  .format('csv')\n",
    "                  .option(\"path\",f'{os.getcwd()}/abc/')\n",
    "                  .option('checkpointLocation',f'{os.getcwd()}/abc_checkpoint')\n",
    "                  .outputMode('append')\n",
    "                  .start())"
   ]
  },
  {
   "cell_type": "code",
   "execution_count": null,
   "id": "aaca6a13",
   "metadata": {},
   "outputs": [],
   "source": [
    "streaming_query = (streaming.writeStream\n",
    "                  .format('console')\n",
    "                  .outputMode('update')\n",
    "                  .start())"
   ]
  },
  {
   "cell_type": "code",
   "execution_count": null,
   "id": "9ecc9e31",
   "metadata": {
    "scrolled": true
   },
   "outputs": [],
   "source": [
    "streaming_query = (streaming.writeStream\n",
    "                  .format('socket')\n",
    "                  .option('host','localhost')\n",
    "                  .option('port',9999)\n",
    "                  .outputMode('update')\n",
    "                  .start())"
   ]
  },
  {
   "cell_type": "code",
   "execution_count": null,
   "id": "5c9e84e5",
   "metadata": {},
   "outputs": [],
   "source": [
    "streaming_query = (streaming\\\n",
    "                   .withColumn(\"Datetime\",col(\"Datetime\")[0:10])\n",
    "                   .groupBy(\"Datetime\")\\\n",
    "                   .mean(\"MW\")\\\n",
    "                   .sort(col('DateTime'))\n",
    "                   .writeStream\\\n",
    "                   .outputMode('complete')\n",
    "                   .format(\"console\")\n",
    "                   .start()\n",
    "                   .awaitTermination()\n",
    "                  )"
   ]
  },
  {
   "cell_type": "code",
   "execution_count": null,
   "id": "157eff5d",
   "metadata": {},
   "outputs": [],
   "source": [
    "streaming_query"
   ]
  }
 ],
 "metadata": {
  "kernelspec": {
   "display_name": "Python 3 (ipykernel)",
   "language": "python",
   "name": "python3"
  },
  "language_info": {
   "codemirror_mode": {
    "name": "ipython",
    "version": 3
   },
   "file_extension": ".py",
   "mimetype": "text/x-python",
   "name": "python",
   "nbconvert_exporter": "python",
   "pygments_lexer": "ipython3",
   "version": "3.8.10"
  }
 },
 "nbformat": 4,
 "nbformat_minor": 5
}
